{
 "cells": [
  {
   "attachments": {},
   "cell_type": "markdown",
   "metadata": {},
   "source": [
    "# Linear Regression Email Spam Classifier\n",
    "\n",
    "### 1. Fetch Spam Assassin Data\n",
    "\n",
    "HAM and SPAM represent non-spam and spam emails respectively.\n"
   ]
  },
  {
   "cell_type": "code",
   "execution_count": 4,
   "metadata": {},
   "outputs": [],
   "source": [
    "import os \n",
    "import shutil\n",
    "from download_module import DataDownloader"
   ]
  },
  {
   "cell_type": "code",
   "execution_count": 2,
   "metadata": {},
   "outputs": [],
   "source": [
    "# Set up variables for downloading the data\n",
    "\n",
    "DOWNLOAD_ROOT = \"http://spamassassin.apache.org/old/publiccorpus/\"\n",
    "HAM_URL = DOWNLOAD_ROOT + \"20030228_easy_ham.tar.bz2\"\n",
    "SPAM_URL = DOWNLOAD_ROOT + \"20030228_spam.tar.bz2\"\n",
    "SPAM_PATH = os.path.join(\"datasets\", \"spam\") # datasets/spam\n",
    "HAM_PATH = os.path.join(\"datasets\", \"ham\") # datasets/ham"
   ]
  },
  {
   "cell_type": "code",
   "execution_count": 19,
   "metadata": {},
   "outputs": [
    {
     "name": "stdout",
     "output_type": "stream",
     "text": [
      "Ctor called\n",
      "Downloading 20030228_easy_ham.tar.bz2... to datasets/20030228_easy_ham.tar.bz2\n",
      "Filetype:  bz2\n",
      "Done!\n",
      "Downloading 20030228_spam.tar.bz2... to datasets/20030228_spam.tar.bz2\n",
      "Filetype:  bz2\n",
      "Done!\n"
     ]
    }
   ],
   "source": [
    "# Create a DataDownloader object and download the files\n",
    "\n",
    "HAM_FILE = \"20030228_easy_ham.tar.bz2\"\n",
    "SPAM_FILE = \"20030228_spam.tar.bz2\"\n",
    "data = DataDownloader(DOWNLOAD_ROOT, [HAM_FILE, SPAM_FILE])\n",
    "data.download()"
   ]
  },
  {
   "cell_type": "code",
   "execution_count": 21,
   "metadata": {},
   "outputs": [],
   "source": [
    "# Modify file directory for convenience\n",
    "sources = [\"datasets/20030228_easy_ham.tar.bz2/easy_ham\", \"datasets/20030228_spam.tar.bz2/spam\"]\n",
    "for source in sources: \n",
    "    shutil.move(source, \"datasets\", copy_function=shutil.copytree)\n",
    "    os.rmdir(os.path.dirname(source))\n",
    "    # print(os.path.dirname(source))"
   ]
  }
 ],
 "metadata": {
  "kernelspec": {
   "display_name": "Python 3",
   "language": "python",
   "name": "python3"
  },
  "language_info": {
   "codemirror_mode": {
    "name": "ipython",
    "version": 3
   },
   "file_extension": ".py",
   "mimetype": "text/x-python",
   "name": "python",
   "nbconvert_exporter": "python",
   "pygments_lexer": "ipython3",
   "version": "3.10.11"
  },
  "orig_nbformat": 4
 },
 "nbformat": 4,
 "nbformat_minor": 2
}

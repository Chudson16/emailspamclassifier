{
 "cells": [
  {
   "attachments": {},
   "cell_type": "markdown",
   "metadata": {},
   "source": [
    "# Linear Regression Email Spam Classifier\n",
    "\n",
    "### 1. Fetch Spam Assassin Data\n",
    "\n",
    "HAM and SPAM represent non-spam and spam emails respectively.\n"
   ]
  },
  {
   "cell_type": "code",
   "execution_count": 27,
   "metadata": {},
   "outputs": [],
   "source": [
    "import os \n",
    "import tarfile\n",
    "import urllib\n",
    "from download_module import DataDownloader"
   ]
  },
  {
   "cell_type": "code",
   "execution_count": 28,
   "metadata": {},
   "outputs": [],
   "source": [
    "DOWNLOAD_ROOT = \"http://spamassassin.apache.org/old/publiccorpus/\"\n",
    "# Use 2003 data set\n",
    "HAM_URL = DOWNLOAD_ROOT + \"20030228_easy_ham.tar.bz2\"\n",
    "SPAM_URL = DOWNLOAD_ROOT + \"20030228_spam.tar.bz2\"\n",
    "SPAM_PATH = os.path.join(\"datasets\", \"spam\") # datasets/spam\n",
    "HAM_PATH = os.path.join(\"datasets\", \"ham\") # datasets/ham"
   ]
  },
  {
   "cell_type": "code",
   "execution_count": 29,
   "metadata": {},
   "outputs": [],
   "source": [
    "HAM_FILE = \"20030228_easy_ham.tar.bz2\"\n",
    "SPAM_FILE = \"20030228_spam.tar.bz2\"\n",
    "data = DataDownloader(DOWNLOAD_ROOT, [HAM_FILE, SPAM_FILE])\n",
    "data.download()"
   ]
  },
  {
   "cell_type": "code",
   "execution_count": 4,
   "metadata": {},
   "outputs": [],
   "source": [
    "def fetch(url, path):\n",
    "    if not os.path.isdir(path):\n",
    "        os.makedirs(path)\n",
    "    \n",
    "    filename = os.path.basename(url)\n",
    "    tgz_path = os.path.join(path, filename)\n",
    "\n",
    "    print(\"Downloading\", filename, \"to\", tgz_path)\n",
    "\n",
    "    with open(tgz_path, 'wb') as f:\n",
    "        f.write(urllib.request.urlopen(url).read()) \n",
    "\n",
    "    print(\"Extracting\", filename, \"to\", path)\n",
    "    tarfile.open(tgz_path, \"r:bz2\").extractall(path=path)\n",
    "    \n",
    "    "
   ]
  },
  {
   "cell_type": "code",
   "execution_count": 7,
   "metadata": {},
   "outputs": [
    {
     "name": "stdout",
     "output_type": "stream",
     "text": [
      "Downloading 20030228_easy_ham.tar.bz2 to datasets\\ham\\20030228_easy_ham.tar.bz2\n",
      "Extracting 20030228_easy_ham.tar.bz2 to datasets\\ham\n",
      "Downloading 20030228_spam.tar.bz2 to datasets\\spam\\20030228_spam.tar.bz2\n",
      "Extracting 20030228_spam.tar.bz2 to datasets\\spam\n"
     ]
    }
   ],
   "source": [
    "fetch(HAM_URL, HAM_PATH)\n",
    "fetch(SPAM_URL, SPAM_PATH)"
   ]
  }
 ],
 "metadata": {
  "kernelspec": {
   "display_name": "Python 3",
   "language": "python",
   "name": "python3"
  },
  "language_info": {
   "codemirror_mode": {
    "name": "ipython",
    "version": 3
   },
   "file_extension": ".py",
   "mimetype": "text/x-python",
   "name": "python",
   "nbconvert_exporter": "python",
   "pygments_lexer": "ipython3",
   "version": "3.10.11"
  },
  "orig_nbformat": 4
 },
 "nbformat": 4,
 "nbformat_minor": 2
}
